{
 "cells": [
  {
   "cell_type": "markdown",
   "id": "1b8e0910",
   "metadata": {},
   "source": [
    "# Caso COVID-19 Fase 1 "
   ]
  },
  {
   "cell_type": "markdown",
   "id": "b100a4bf",
   "metadata": {},
   "source": [
    "## Análisis y transformaciones al conjunto de datos original de COVID-19"
   ]
  },
  {
   "cell_type": "code",
   "execution_count": null,
   "id": "9375e82a",
   "metadata": {},
   "outputs": [],
   "source": [
    "# C1 Caso COVID-19 Fase1\n",
    "# Zuly Mayerly Alfonso Mosquera – ID 53080365 \n",
    "# David Padilla – ID 8980375 \n",
    "# Manuel Anduquia - ID: 8974535\n",
    "# Gestión de Datos - Grupo A - 2023-1"
   ]
  },
  {
   "cell_type": "code",
   "execution_count": 10,
   "id": "0526a979",
   "metadata": {},
   "outputs": [],
   "source": [
    "import pandas as pd\n",
    "import numpy as np\n",
    "from matplotlib import pyplot as plt\n",
    "from matplotlib.dates import MonthLocator, DateFormatter"
   ]
  },
  {
   "cell_type": "code",
   "execution_count": 11,
   "id": "ea31ee6f",
   "metadata": {},
   "outputs": [],
   "source": [
    "url = 'https://raw.githubusercontent.com/CSSEGISandData/COVID-19/master/csse_covid_19_data/csse_covid_19_time_series/time_series_covid19_confirmed_global.csv'\n",
    "covid_df = pd.read_csv(url)"
   ]
  },
  {
   "cell_type": "code",
   "execution_count": 12,
   "id": "710e66b2",
   "metadata": {},
   "outputs": [],
   "source": [
    "#Se utilizó la función melt para hacer un pivot y tener un mejor manejo de las columnas con fechas \n",
    "#que están en una linea de tiempo\n",
    "\n",
    "df_covid = covid_df.melt(\n",
    "    id_vars=['Province/State', 'Country/Region', 'Lat', 'Long'],\n",
    "    value_vars=covid_df.columns[4:],\n",
    "    var_name='Date',\n",
    "    value_name='Confirmed'\n",
    ")"
   ]
  },
  {
   "cell_type": "code",
   "execution_count": 14,
   "id": "22aa5e6d",
   "metadata": {},
   "outputs": [
    {
     "data": {
      "text/plain": [
       "(330327, 6)"
      ]
     },
     "execution_count": 14,
     "metadata": {},
     "output_type": "execute_result"
    }
   ],
   "source": [
    "df_covid.shape"
   ]
  },
  {
   "cell_type": "code",
   "execution_count": 15,
   "id": "d8c0f7d9",
   "metadata": {},
   "outputs": [
    {
     "name": "stdout",
     "output_type": "stream",
     "text": [
      "<class 'pandas.core.frame.DataFrame'>\n",
      "RangeIndex: 330327 entries, 0 to 330326\n",
      "Data columns (total 6 columns):\n",
      " #   Column          Non-Null Count   Dtype         \n",
      "---  ------          --------------   -----         \n",
      " 0   Province/State  104013 non-null  object        \n",
      " 1   Country/Region  330327 non-null  object        \n",
      " 2   Lat             328041 non-null  float64       \n",
      " 3   Long            328041 non-null  float64       \n",
      " 4   Date            330327 non-null  datetime64[ns]\n",
      " 5   Confirmed       330327 non-null  int64         \n",
      "dtypes: datetime64[ns](1), float64(2), int64(1), object(2)\n",
      "memory usage: 15.1+ MB\n"
     ]
    }
   ],
   "source": [
    "df_covid.info()"
   ]
  },
  {
   "cell_type": "code",
   "execution_count": 16,
   "id": "e4e6925a",
   "metadata": {},
   "outputs": [
    {
     "data": {
      "text/html": [
       "<div>\n",
       "<style scoped>\n",
       "    .dataframe tbody tr th:only-of-type {\n",
       "        vertical-align: middle;\n",
       "    }\n",
       "\n",
       "    .dataframe tbody tr th {\n",
       "        vertical-align: top;\n",
       "    }\n",
       "\n",
       "    .dataframe thead th {\n",
       "        text-align: right;\n",
       "    }\n",
       "</style>\n",
       "<table border=\"1\" class=\"dataframe\">\n",
       "  <thead>\n",
       "    <tr style=\"text-align: right;\">\n",
       "      <th></th>\n",
       "      <th>count</th>\n",
       "      <th>mean</th>\n",
       "      <th>std</th>\n",
       "      <th>min</th>\n",
       "      <th>25%</th>\n",
       "      <th>50%</th>\n",
       "      <th>75%</th>\n",
       "      <th>max</th>\n",
       "    </tr>\n",
       "  </thead>\n",
       "  <tbody>\n",
       "    <tr>\n",
       "      <th>Lat</th>\n",
       "      <td>328041.0</td>\n",
       "      <td>19.718719</td>\n",
       "      <td>2.591139e+01</td>\n",
       "      <td>-71.9499</td>\n",
       "      <td>3.9339</td>\n",
       "      <td>21.512583</td>\n",
       "      <td>40.463667</td>\n",
       "      <td>7.170690e+01</td>\n",
       "    </tr>\n",
       "    <tr>\n",
       "      <th>Long</th>\n",
       "      <td>328041.0</td>\n",
       "      <td>22.182084</td>\n",
       "      <td>7.773527e+01</td>\n",
       "      <td>-178.1165</td>\n",
       "      <td>-42.6043</td>\n",
       "      <td>20.939400</td>\n",
       "      <td>90.356300</td>\n",
       "      <td>1.780650e+02</td>\n",
       "    </tr>\n",
       "    <tr>\n",
       "      <th>Confirmed</th>\n",
       "      <td>330327.0</td>\n",
       "      <td>959383.569369</td>\n",
       "      <td>4.866034e+06</td>\n",
       "      <td>0.0000</td>\n",
       "      <td>680.0000</td>\n",
       "      <td>14429.000000</td>\n",
       "      <td>228517.000000</td>\n",
       "      <td>1.038027e+08</td>\n",
       "    </tr>\n",
       "  </tbody>\n",
       "</table>\n",
       "</div>"
      ],
      "text/plain": [
       "              count           mean           std       min       25%  \\\n",
       "Lat        328041.0      19.718719  2.591139e+01  -71.9499    3.9339   \n",
       "Long       328041.0      22.182084  7.773527e+01 -178.1165  -42.6043   \n",
       "Confirmed  330327.0  959383.569369  4.866034e+06    0.0000  680.0000   \n",
       "\n",
       "                    50%            75%           max  \n",
       "Lat           21.512583      40.463667  7.170690e+01  \n",
       "Long          20.939400      90.356300  1.780650e+02  \n",
       "Confirmed  14429.000000  228517.000000  1.038027e+08  "
      ]
     },
     "execution_count": 16,
     "metadata": {},
     "output_type": "execute_result"
    }
   ],
   "source": [
    "df_covid.describe().T"
   ]
  },
  {
   "cell_type": "code",
   "execution_count": 17,
   "id": "31f9f432",
   "metadata": {},
   "outputs": [
    {
     "data": {
      "text/html": [
       "<div>\n",
       "<style scoped>\n",
       "    .dataframe tbody tr th:only-of-type {\n",
       "        vertical-align: middle;\n",
       "    }\n",
       "\n",
       "    .dataframe tbody tr th {\n",
       "        vertical-align: top;\n",
       "    }\n",
       "\n",
       "    .dataframe thead th {\n",
       "        text-align: right;\n",
       "    }\n",
       "</style>\n",
       "<table border=\"1\" class=\"dataframe\">\n",
       "  <thead>\n",
       "    <tr style=\"text-align: right;\">\n",
       "      <th></th>\n",
       "      <th>Province/State</th>\n",
       "      <th>Country/Region</th>\n",
       "    </tr>\n",
       "  </thead>\n",
       "  <tbody>\n",
       "    <tr>\n",
       "      <th>count</th>\n",
       "      <td>104013</td>\n",
       "      <td>330327</td>\n",
       "    </tr>\n",
       "    <tr>\n",
       "      <th>unique</th>\n",
       "      <td>91</td>\n",
       "      <td>201</td>\n",
       "    </tr>\n",
       "    <tr>\n",
       "      <th>top</th>\n",
       "      <td>Australian Capital Territory</td>\n",
       "      <td>China</td>\n",
       "    </tr>\n",
       "    <tr>\n",
       "      <th>freq</th>\n",
       "      <td>1143</td>\n",
       "      <td>38862</td>\n",
       "    </tr>\n",
       "  </tbody>\n",
       "</table>\n",
       "</div>"
      ],
      "text/plain": [
       "                      Province/State Country/Region\n",
       "count                         104013         330327\n",
       "unique                            91            201\n",
       "top     Australian Capital Territory          China\n",
       "freq                            1143          38862"
      ]
     },
     "execution_count": 17,
     "metadata": {},
     "output_type": "execute_result"
    }
   ],
   "source": [
    "df_covid.describe(include='O')"
   ]
  },
  {
   "cell_type": "code",
   "execution_count": 18,
   "id": "dde9fd54",
   "metadata": {},
   "outputs": [],
   "source": [
    "# Transformar la columna \"Date\" de tipo 'object' a 'datetime'\n",
    "\n",
    "df_covid['Date'] = pd.to_datetime(df_covid['Date'])"
   ]
  },
  {
   "cell_type": "code",
   "execution_count": 19,
   "id": "ad45ae13",
   "metadata": {},
   "outputs": [
    {
     "name": "stdout",
     "output_type": "stream",
     "text": [
      "<class 'pandas.core.frame.DataFrame'>\n",
      "RangeIndex: 330327 entries, 0 to 330326\n",
      "Data columns (total 6 columns):\n",
      " #   Column          Non-Null Count   Dtype         \n",
      "---  ------          --------------   -----         \n",
      " 0   Province/State  104013 non-null  object        \n",
      " 1   Country/Region  330327 non-null  object        \n",
      " 2   Lat             328041 non-null  float64       \n",
      " 3   Long            328041 non-null  float64       \n",
      " 4   Date            330327 non-null  datetime64[ns]\n",
      " 5   Confirmed       330327 non-null  int64         \n",
      "dtypes: datetime64[ns](1), float64(2), int64(1), object(2)\n",
      "memory usage: 15.1+ MB\n"
     ]
    }
   ],
   "source": [
    "df_covid.info()"
   ]
  },
  {
   "cell_type": "code",
   "execution_count": 20,
   "id": "caa1abd5",
   "metadata": {},
   "outputs": [
    {
     "data": {
      "text/html": [
       "<div>\n",
       "<style scoped>\n",
       "    .dataframe tbody tr th:only-of-type {\n",
       "        vertical-align: middle;\n",
       "    }\n",
       "\n",
       "    .dataframe tbody tr th {\n",
       "        vertical-align: top;\n",
       "    }\n",
       "\n",
       "    .dataframe thead th {\n",
       "        text-align: right;\n",
       "    }\n",
       "</style>\n",
       "<table border=\"1\" class=\"dataframe\">\n",
       "  <thead>\n",
       "    <tr style=\"text-align: right;\">\n",
       "      <th></th>\n",
       "      <th>Province/State</th>\n",
       "      <th>Country/Region</th>\n",
       "      <th>Lat</th>\n",
       "      <th>Long</th>\n",
       "      <th>Date</th>\n",
       "      <th>Confirmed</th>\n",
       "    </tr>\n",
       "  </thead>\n",
       "  <tbody>\n",
       "    <tr>\n",
       "      <th>0</th>\n",
       "      <td>NaN</td>\n",
       "      <td>Afghanistan</td>\n",
       "      <td>33.93911</td>\n",
       "      <td>67.709953</td>\n",
       "      <td>2020-01-22</td>\n",
       "      <td>0</td>\n",
       "    </tr>\n",
       "    <tr>\n",
       "      <th>1</th>\n",
       "      <td>NaN</td>\n",
       "      <td>Albania</td>\n",
       "      <td>41.15330</td>\n",
       "      <td>20.168300</td>\n",
       "      <td>2020-01-22</td>\n",
       "      <td>0</td>\n",
       "    </tr>\n",
       "    <tr>\n",
       "      <th>2</th>\n",
       "      <td>NaN</td>\n",
       "      <td>Algeria</td>\n",
       "      <td>28.03390</td>\n",
       "      <td>1.659600</td>\n",
       "      <td>2020-01-22</td>\n",
       "      <td>0</td>\n",
       "    </tr>\n",
       "    <tr>\n",
       "      <th>3</th>\n",
       "      <td>NaN</td>\n",
       "      <td>Andorra</td>\n",
       "      <td>42.50630</td>\n",
       "      <td>1.521800</td>\n",
       "      <td>2020-01-22</td>\n",
       "      <td>0</td>\n",
       "    </tr>\n",
       "    <tr>\n",
       "      <th>4</th>\n",
       "      <td>NaN</td>\n",
       "      <td>Angola</td>\n",
       "      <td>-11.20270</td>\n",
       "      <td>17.873900</td>\n",
       "      <td>2020-01-22</td>\n",
       "      <td>0</td>\n",
       "    </tr>\n",
       "  </tbody>\n",
       "</table>\n",
       "</div>"
      ],
      "text/plain": [
       "  Province/State Country/Region       Lat       Long       Date  Confirmed\n",
       "0            NaN    Afghanistan  33.93911  67.709953 2020-01-22          0\n",
       "1            NaN        Albania  41.15330  20.168300 2020-01-22          0\n",
       "2            NaN        Algeria  28.03390   1.659600 2020-01-22          0\n",
       "3            NaN        Andorra  42.50630   1.521800 2020-01-22          0\n",
       "4            NaN         Angola -11.20270  17.873900 2020-01-22          0"
      ]
     },
     "execution_count": 20,
     "metadata": {},
     "output_type": "execute_result"
    }
   ],
   "source": [
    "df_covid.head()"
   ]
  },
  {
   "cell_type": "code",
   "execution_count": 21,
   "id": "ca112a02",
   "metadata": {},
   "outputs": [
    {
     "data": {
      "text/plain": [
       "Province/State    226314\n",
       "Country/Region         0\n",
       "Lat                 2286\n",
       "Long                2286\n",
       "Date                   0\n",
       "Confirmed              0\n",
       "dtype: int64"
      ]
     },
     "execution_count": 21,
     "metadata": {},
     "output_type": "execute_result"
    }
   ],
   "source": [
    "# Cantidad de valores nulos en cada columna.\n",
    "\n",
    "df_covid.isna().sum()"
   ]
  },
  {
   "cell_type": "code",
   "execution_count": 22,
   "id": "b7a2e540",
   "metadata": {},
   "outputs": [],
   "source": [
    "# Copia del DF para salvaguardar la primera información y hacer la respectiva limpieza de datos.\n",
    "\n",
    "df_cvclean = df_covid.copy()"
   ]
  },
  {
   "cell_type": "code",
   "execution_count": 23,
   "id": "7cbf6552",
   "metadata": {},
   "outputs": [],
   "source": [
    "df_cvclean = df_cvclean.drop(columns=['Lat', 'Long'])"
   ]
  },
  {
   "cell_type": "code",
   "execution_count": 24,
   "id": "0ac8914e",
   "metadata": {},
   "outputs": [],
   "source": [
    "# Reemplazar valores nulos en las columnas Country/Region y Province/State por \"Unknown\"\n",
    "df_cvclean['Country/Region'] = df_cvclean['Country/Region'].fillna('Unknown')\n",
    "df_cvclean['Province/State'] = df_cvclean['Province/State'].fillna('Unknown')"
   ]
  },
  {
   "cell_type": "code",
   "execution_count": 25,
   "id": "b616fec7",
   "metadata": {
    "scrolled": true
   },
   "outputs": [
    {
     "data": {
      "text/html": [
       "<div>\n",
       "<style scoped>\n",
       "    .dataframe tbody tr th:only-of-type {\n",
       "        vertical-align: middle;\n",
       "    }\n",
       "\n",
       "    .dataframe tbody tr th {\n",
       "        vertical-align: top;\n",
       "    }\n",
       "\n",
       "    .dataframe thead th {\n",
       "        text-align: right;\n",
       "    }\n",
       "</style>\n",
       "<table border=\"1\" class=\"dataframe\">\n",
       "  <thead>\n",
       "    <tr style=\"text-align: right;\">\n",
       "      <th></th>\n",
       "      <th>Province/State</th>\n",
       "      <th>Country/Region</th>\n",
       "      <th>Date</th>\n",
       "      <th>Confirmed</th>\n",
       "    </tr>\n",
       "  </thead>\n",
       "  <tbody>\n",
       "    <tr>\n",
       "      <th>0</th>\n",
       "      <td>Unknown</td>\n",
       "      <td>Afghanistan</td>\n",
       "      <td>2020-01-22</td>\n",
       "      <td>0</td>\n",
       "    </tr>\n",
       "    <tr>\n",
       "      <th>1</th>\n",
       "      <td>Unknown</td>\n",
       "      <td>Albania</td>\n",
       "      <td>2020-01-22</td>\n",
       "      <td>0</td>\n",
       "    </tr>\n",
       "    <tr>\n",
       "      <th>2</th>\n",
       "      <td>Unknown</td>\n",
       "      <td>Algeria</td>\n",
       "      <td>2020-01-22</td>\n",
       "      <td>0</td>\n",
       "    </tr>\n",
       "    <tr>\n",
       "      <th>3</th>\n",
       "      <td>Unknown</td>\n",
       "      <td>Andorra</td>\n",
       "      <td>2020-01-22</td>\n",
       "      <td>0</td>\n",
       "    </tr>\n",
       "    <tr>\n",
       "      <th>4</th>\n",
       "      <td>Unknown</td>\n",
       "      <td>Angola</td>\n",
       "      <td>2020-01-22</td>\n",
       "      <td>0</td>\n",
       "    </tr>\n",
       "  </tbody>\n",
       "</table>\n",
       "</div>"
      ],
      "text/plain": [
       "  Province/State Country/Region       Date  Confirmed\n",
       "0        Unknown    Afghanistan 2020-01-22          0\n",
       "1        Unknown        Albania 2020-01-22          0\n",
       "2        Unknown        Algeria 2020-01-22          0\n",
       "3        Unknown        Andorra 2020-01-22          0\n",
       "4        Unknown         Angola 2020-01-22          0"
      ]
     },
     "execution_count": 25,
     "metadata": {},
     "output_type": "execute_result"
    }
   ],
   "source": [
    "df_cvclean.head()"
   ]
  },
  {
   "cell_type": "code",
   "execution_count": 26,
   "id": "5ad1dc96",
   "metadata": {},
   "outputs": [],
   "source": [
    "# Guardar una copia del nuevo df en CSV\n",
    "df_cvclean.to_csv('df_cvclean.csv', index=False)"
   ]
  },
  {
   "cell_type": "markdown",
   "id": "60b6cc38",
   "metadata": {},
   "source": [
    "## 1. ¿En cuál mes se presentó el mayor número de contagios?"
   ]
  },
  {
   "cell_type": "code",
   "execution_count": null,
   "id": "b15223ff",
   "metadata": {},
   "outputs": [],
   "source": [
    "#Se excluyen los datos de cruceros que no se consideran paises/provincias/estados.\n",
    "\n",
    "df_cvclean = df_cvclean.query('`Country/Region` not in [\"Diamond Princess\", \"Summer Olympics 2020\", \"Winter Olympics 2022\", \"MS Zaandam\"]')"
   ]
  },
  {
   "cell_type": "code",
   "execution_count": null,
   "id": "81a752af",
   "metadata": {},
   "outputs": [],
   "source": [
    "df_cvclean = df_cvclean.query('`Province/State` not in [\"Diamond Princess\", \"Grand Princess\"]')"
   ]
  },
  {
   "cell_type": "code",
   "execution_count": null,
   "id": "dac87ec5",
   "metadata": {},
   "outputs": [],
   "source": [
    "df_cvclean = df_cvclean.reset_index(drop=True)"
   ]
  },
  {
   "cell_type": "code",
   "execution_count": null,
   "id": "761caebe",
   "metadata": {},
   "outputs": [],
   "source": [
    "df_cvclean.info()"
   ]
  },
  {
   "cell_type": "code",
   "execution_count": null,
   "id": "e285b1ab",
   "metadata": {},
   "outputs": [],
   "source": [
    "# Agrupar los datos por país y mes, y seleccionar solo la última fila de cada grupo\n",
    "df_covid_last_day = df_cvclean.groupby(['Country/Region', pd.Grouper(key='Date', freq='M')]).last().reset_index()\n",
    "\n",
    "df_covid_last_day.info()"
   ]
  },
  {
   "cell_type": "code",
   "execution_count": null,
   "id": "61e0eb05",
   "metadata": {},
   "outputs": [],
   "source": [
    "# Agrupar los datos por fecha y sumar los casos confirmados acumulados\n",
    "df_covid_monthly = df_covid_last_day.groupby(pd.Grouper(key='Date', freq='M')).sum().reset_index()"
   ]
  },
  {
   "cell_type": "code",
   "execution_count": null,
   "id": "7832071a",
   "metadata": {},
   "outputs": [],
   "source": [
    "# Calcular la diferencia de casos confirmados acumulados entre meses consecutivos\n",
    "df_covid_monthly['Confirmed_Diff'] = df_covid_monthly['Confirmed'].diff().fillna(0)"
   ]
  },
  {
   "cell_type": "code",
   "execution_count": null,
   "id": "19a997b4",
   "metadata": {},
   "outputs": [],
   "source": [
    "print(df_covid_monthly)"
   ]
  },
  {
   "cell_type": "code",
   "execution_count": null,
   "id": "0aa75a61",
   "metadata": {
    "scrolled": true
   },
   "outputs": [],
   "source": [
    "# Encontrar la fila con la mayor diferencia\n",
    "max_diff_index = df_covid_monthly['Confirmed_Diff'].idxmax()\n",
    "\n",
    "# Obtener el mes con la mayor diferencia\n",
    "max_diff_month = df_covid_monthly.loc[max_diff_index, 'Date'].strftime('%B %Y')\n",
    "\n",
    "# Imprimir el mes con la mayor diferencia\n",
    "print(f\"El mes con mayor número de casos confirmados fue: {max_diff_month}\")"
   ]
  },
  {
   "cell_type": "markdown",
   "id": "783793ef",
   "metadata": {},
   "source": [
    "## 2. ¿En ese mismo mes, cuál fue el país que reportó más contagios?"
   ]
  },
  {
   "cell_type": "code",
   "execution_count": null,
   "id": "2541b58a",
   "metadata": {},
   "outputs": [],
   "source": [
    "# Filtrar el DataFrame para obtener solo los datos de enero de 2022\n",
    "Enero2022 = df_covid_last_day[df_covid_last_day['Date'] == '2022-01-31']\n",
    "\n",
    "# Ordenar los datos por la columna 'Confirmed' en orden descendente\n",
    "Enero2022_sorted = Enero2022.sort_values('Confirmed', ascending=False)\n",
    "\n",
    "# Tomar el primer país del DataFrame ordenado (el que tiene más casos confirmados)\n",
    "Mayor_Numero_Contagios = Enero2022_sorted.iloc[0]['Country/Region']\n",
    "\n",
    "# Imprimir el resultado\n",
    "print(f\"El país con más contagios en enero de 2022 fue: {Mayor_Numero_Contagios}\")"
   ]
  },
  {
   "cell_type": "markdown",
   "id": "bdf81d6a",
   "metadata": {},
   "source": [
    "## 3. ¿Cuál es el país con el menor número de casos reportados hasta la fecha?"
   ]
  },
  {
   "cell_type": "code",
   "execution_count": null,
   "id": "c11e78fc",
   "metadata": {},
   "outputs": [],
   "source": [
    "# Filtrar solo la última fecha disponible para cada país\n",
    "df_last_day_by_country = df_covid_last_day.groupby('Country/Region').last().reset_index()\n",
    "\n",
    "# Ordenar los datos por la columna 'Confirmed' en orden ascendente\n",
    "df_last_day_by_country_sorted = df_last_day_by_country.sort_values('Confirmed', ascending=True)\n",
    "\n",
    "# Tomar el primer país del DataFrame ordenado (el que tiene menos casos confirmados)\n",
    "pais_menor_casos = df_last_day_by_country_sorted.iloc[0]['Country/Region']\n",
    "cantidad_casos = df_last_day_by_country_sorted.iloc[0]['Confirmed']\n",
    "\n",
    "# Imprimir el resultado\n",
    "print(f\"El país con el menor número de casos reportados hasta la fecha es {pais_menor_casos} con un total de {cantidad_casos} casos confirmados.\")\n"
   ]
  },
  {
   "cell_type": "code",
   "execution_count": null,
   "id": "e994a79c",
   "metadata": {},
   "outputs": [],
   "source": []
  },
  {
   "cell_type": "markdown",
   "id": "40aba346",
   "metadata": {},
   "source": [
    "### Conclusiones"
   ]
  },
  {
   "cell_type": "markdown",
   "id": "3fcb2867",
   "metadata": {},
   "source": [
    "#### 1. El análisis exploratorio de datos de este dataset del COVID-19 F1 nos permitió identificar de entrada que las columnas de fecha estaban en una distribución de linea de tiempo y debiamos utilizar una función (melt) para hacer un pivot de esa información, para una mejor manipulación.  "
   ]
  },
  {
   "cell_type": "markdown",
   "id": "06d90b99",
   "metadata": {},
   "source": [
    "#### 2. La columna de fecha debiamos convertirla de tipo string a date, para poder realizar los cálculos adecuadamente."
   ]
  },
  {
   "cell_type": "markdown",
   "id": "fc08a5d3",
   "metadata": {},
   "source": [
    "#### 3.  Se encontraron una cantidad importante de valores nulos en el columna de \"Country/Region\" no fueron eliminados o reemplazados con algun valor, ya que por el momento no lo consideramos relevante para el ejercicio.  "
   ]
  },
  {
   "cell_type": "markdown",
   "id": "c5430366",
   "metadata": {},
   "source": [
    "#### 4. En la limpieza de datos, identificamos que las columnas \"lat\" y \"long\" no eran relevantes para el análisis y por lo tanto fueron removidas.  "
   ]
  },
  {
   "cell_type": "markdown",
   "id": "a352aa39",
   "metadata": {},
   "source": [
    "#### 5. Se excluyeron valores de cruceros que estaban referenciados dentro de las columnas \"Country/Region\" y \"Providence/State\" ya que no serían considerados como países en el análisis."
   ]
  },
  {
   "cell_type": "markdown",
   "id": "d901b4ec",
   "metadata": {},
   "source": [
    "#### 6. Se utilizaron las librerias de Pandas, Numpy y Matplotlib de Python para usar las funciones requeridas para el EDA."
   ]
  },
  {
   "cell_type": "code",
   "execution_count": null,
   "id": "ab18a9e6",
   "metadata": {},
   "outputs": [],
   "source": []
  },
  {
   "cell_type": "markdown",
   "id": "82f068bf",
   "metadata": {},
   "source": [
    "# FASE 2"
   ]
  },
  {
   "cell_type": "markdown",
   "id": "83c1a787",
   "metadata": {},
   "source": [
    "### 2. Construir una gráfica que muestre una comparación del total de contagios de cinco países."
   ]
  },
  {
   "cell_type": "markdown",
   "id": "092688a0",
   "metadata": {},
   "source": [
    "#### Paises seleccionados:  \n",
    "Australia 🇦🇺   \n",
    "Mexico 🇲🇽   \n",
    "Sudáfrica 🇿🇦   \n",
    "Japón 🇯🇵   \n",
    "España 🇪🇸"
   ]
  },
  {
   "cell_type": "code",
   "execution_count": 1,
   "id": "a4f4bb34",
   "metadata": {},
   "outputs": [],
   "source": [
    "import pandas as pd\n",
    "import matplotlib.pyplot as plt"
   ]
  },
  {
   "cell_type": "code",
   "execution_count": 27,
   "id": "56a98180",
   "metadata": {},
   "outputs": [],
   "source": [
    "# Importar dataset limpio Fase1\n",
    "url = 'https://raw.githubusercontent.com/manuelanduquia81/c1-covid19-f2/main/df_cvclean.csv'\n",
    "df = pd.read_csv(url)"
   ]
  },
  {
   "cell_type": "code",
   "execution_count": 29,
   "id": "33ae8f42",
   "metadata": {},
   "outputs": [
    {
     "data": {
      "text/html": [
       "<div>\n",
       "<style scoped>\n",
       "    .dataframe tbody tr th:only-of-type {\n",
       "        vertical-align: middle;\n",
       "    }\n",
       "\n",
       "    .dataframe tbody tr th {\n",
       "        vertical-align: top;\n",
       "    }\n",
       "\n",
       "    .dataframe thead th {\n",
       "        text-align: right;\n",
       "    }\n",
       "</style>\n",
       "<table border=\"1\" class=\"dataframe\">\n",
       "  <thead>\n",
       "    <tr style=\"text-align: right;\">\n",
       "      <th></th>\n",
       "      <th>Province/State</th>\n",
       "      <th>Country/Region</th>\n",
       "      <th>Date</th>\n",
       "      <th>Confirmed</th>\n",
       "    </tr>\n",
       "  </thead>\n",
       "  <tbody>\n",
       "    <tr>\n",
       "      <th>329234</th>\n",
       "      <td>Gansu</td>\n",
       "      <td>China</td>\n",
       "      <td>2023-03-06</td>\n",
       "      <td>1742</td>\n",
       "    </tr>\n",
       "    <tr>\n",
       "      <th>182450</th>\n",
       "      <td>Yunnan</td>\n",
       "      <td>China</td>\n",
       "      <td>2021-10-14</td>\n",
       "      <td>1537</td>\n",
       "    </tr>\n",
       "    <tr>\n",
       "      <th>8625</th>\n",
       "      <td>Unknown</td>\n",
       "      <td>Summer Olympics 2020</td>\n",
       "      <td>2020-02-20</td>\n",
       "      <td>0</td>\n",
       "    </tr>\n",
       "    <tr>\n",
       "      <th>86123</th>\n",
       "      <td>Unknown</td>\n",
       "      <td>Albania</td>\n",
       "      <td>2020-11-15</td>\n",
       "      <td>27830</td>\n",
       "    </tr>\n",
       "    <tr>\n",
       "      <th>309504</th>\n",
       "      <td>Montserrat</td>\n",
       "      <td>United Kingdom</td>\n",
       "      <td>2022-12-27</td>\n",
       "      <td>1403</td>\n",
       "    </tr>\n",
       "    <tr>\n",
       "      <th>235209</th>\n",
       "      <td>Unknown</td>\n",
       "      <td>Thailand</td>\n",
       "      <td>2022-04-14</td>\n",
       "      <td>3973003</td>\n",
       "    </tr>\n",
       "    <tr>\n",
       "      <th>88269</th>\n",
       "      <td>Mayotte</td>\n",
       "      <td>France</td>\n",
       "      <td>2020-11-22</td>\n",
       "      <td>5036</td>\n",
       "    </tr>\n",
       "    <tr>\n",
       "      <th>43206</th>\n",
       "      <td>Unknown</td>\n",
       "      <td>Honduras</td>\n",
       "      <td>2020-06-19</td>\n",
       "      <td>11258</td>\n",
       "    </tr>\n",
       "    <tr>\n",
       "      <th>1229</th>\n",
       "      <td>Hunan</td>\n",
       "      <td>China</td>\n",
       "      <td>2020-01-26</td>\n",
       "      <td>69</td>\n",
       "    </tr>\n",
       "    <tr>\n",
       "      <th>161674</th>\n",
       "      <td>Martinique</td>\n",
       "      <td>France</td>\n",
       "      <td>2021-08-03</td>\n",
       "      <td>22439</td>\n",
       "    </tr>\n",
       "  </tbody>\n",
       "</table>\n",
       "</div>"
      ],
      "text/plain": [
       "       Province/State        Country/Region        Date  Confirmed\n",
       "329234          Gansu                 China  2023-03-06       1742\n",
       "182450         Yunnan                 China  2021-10-14       1537\n",
       "8625          Unknown  Summer Olympics 2020  2020-02-20          0\n",
       "86123         Unknown               Albania  2020-11-15      27830\n",
       "309504     Montserrat        United Kingdom  2022-12-27       1403\n",
       "235209        Unknown              Thailand  2022-04-14    3973003\n",
       "88269         Mayotte                France  2020-11-22       5036\n",
       "43206         Unknown              Honduras  2020-06-19      11258\n",
       "1229            Hunan                 China  2020-01-26         69\n",
       "161674     Martinique                France  2021-08-03      22439"
      ]
     },
     "execution_count": 29,
     "metadata": {},
     "output_type": "execute_result"
    }
   ],
   "source": [
    "# Mostrando una serie de datos de ejemplo al azar\n",
    "df.sample(10)"
   ]
  },
  {
   "cell_type": "code",
   "execution_count": 4,
   "id": "d8abd0e4",
   "metadata": {},
   "outputs": [],
   "source": [
    "# Seleccionar las filas correspondientes a los paises en las \"Country/Region\" y \"Confirmed\"\n",
    "countries = ['Australia', 'Mexico', 'South Africa', 'Spain']\n",
    "subset = df[df['Country/Region'].isin(countries)][['Country/Region', 'Confirmed']]"
   ]
  },
  {
   "cell_type": "code",
   "execution_count": 5,
   "id": "7e72e78d",
   "metadata": {},
   "outputs": [],
   "source": [
    "# Agrupar los datos por país y sumar el total de contagios para cada país\n",
    "grouped = subset.groupby('Country/Region').sum()"
   ]
  },
  {
   "cell_type": "code",
   "execution_count": 8,
   "id": "8caef161",
   "metadata": {},
   "outputs": [
    {
     "data": {
      "image/png": "[encoded data removed]",
      "text/plain": [
       "<Figure size 800x600 with 1 Axes>"
      ]
     },
     "metadata": {},
     "output_type": "display_data"
    }
   ],
   "source": [
    "# Crear una gráfica de barras del total de contagios por país\n",
    "ax = grouped.plot(kind='bar', figsize=(8,6), rot=0, color='green')\n",
    "\n",
    "# Personalizar la gráfica\n",
    "ax.set_xlabel('País')\n",
    "ax.set_ylabel('Total de contagios COVID-19')\n",
    "ax.set_title('Comparación del total de contagios entre Australia, México, Sudáfrica y España')\n",
    "\n",
    "# Agregar etiquetas a cada barra\n",
    "for i, v in enumerate(grouped.values):\n",
    "    ax.text(i - 0.1, v + 1000, str(int(v)), color='blue', fontweight='bold')\n",
    "\n",
    "# Mostrar gráfica\n",
    "plt.show()"
   ]
  },
  {
   "attachments": {},
   "cell_type": "markdown",
   "id": "def38af7",
   "metadata": {},
   "source": [
    "## Conclusión pregunta 2\n",
    "En la gráfica podemos evidenciar las siguientes conclusiones de la comparación total de contagios de COVID-19 entre Australia, México, Sudáfrica y España:\n",
    "- España fue el país que más registró contagios: (7.071.275.148)\n",
    "- Sudáfrica tuvo el de menor contagios reportados: (2.613.099.489)\n",
    "- Entre Australia y México hubo un 12.4% aprox de diferencia entre la cantidad de contagios reportados"
   ]
  }
 ],
 "metadata": {
  "kernelspec": {
   "display_name": "Python 3 (ipykernel)",
   "language": "python",
   "name": "python3"
  },
  "language_info": {
   "codemirror_mode": {
    "name": "ipython",
    "version": 3
   },
   "file_extension": ".py",
   "mimetype": "text/x-python",
   "name": "python",
   "nbconvert_exporter": "python",
   "pygments_lexer": "ipython3",
   "version": "3.10.9"
  }
 },
 "nbformat": 4,
 "nbformat_minor": 5
}
